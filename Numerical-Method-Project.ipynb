{
  "nbformat": 4,
  "nbformat_minor": 0,
  "metadata": {
    "colab": {
      "provenance": [],
      "toc_visible": true,
      "authorship_tag": "ABX9TyOvMmKdw+iXFKmlfpILjU3U"
    },
    "kernelspec": {
      "name": "python3",
      "display_name": "Python 3"
    },
    "language_info": {
      "name": "python"
    }
  },
  "cells": [
    {
      "cell_type": "markdown",
      "source": [
        "# Number 1\n",
        "\n",
        "Find real positive root from this equation:\n",
        "\n",
        "$$f(x) = x^3 - 6x^2 + 11x - 6.1$$\n",
        "\n",
        "using these methods:<br>\n",
        "(a) **Graphical Method**<br>\n",
        "(b) **Bisection Method**<br>\n",
        "(c) **False Position**<br>\n",
        "(d) **Simple Fixed-Position Iteration**<br>\n",
        "(e) **Newton-Raphton**<br>\n",
        "(f) **Modified Secant Method**"
      ],
      "metadata": {
        "id": "MkGBg2Fs8VS2"
      }
    },
    {
      "cell_type": "markdown",
      "source": [
        "**Graphical Method**"
      ],
      "metadata": {
        "id": "Ksn97VGF4IAZ"
      }
    },
    {
      "cell_type": "code",
      "source": [
        "import matplotlib.pyplot as plt\n",
        "import numpy as np\n",
        "from scipy import optimize"
      ],
      "metadata": {
        "id": "X5Jb-KIa_QiM"
      },
      "execution_count": null,
      "outputs": []
    },
    {
      "cell_type": "code",
      "source": [
        "# function f(x)\n",
        "def f(x):\n",
        "  return x**3 - 6*x**2 + 11*x - 6.1"
      ],
      "metadata": {
        "id": "q88xVCscvRKW"
      },
      "execution_count": null,
      "outputs": []
    },
    {
      "cell_type": "code",
      "source": [
        "# create an array of x values\n",
        "x = np.linspace(0, 5, 1000)\n",
        "\n",
        "# Buat plot fungsi f(x)\n",
        "plt.plot(x, f(x), label='f(x)', color='darkred', linewidth=1.25)\n",
        "plt.axhline(y=0, color='darkblue', linestyle='--', linewidth=0.5)\n",
        "plt.xlabel('x')\n",
        "plt.ylabel('f(x)')\n",
        "plt.title('Graphical Method')\n",
        "\n",
        "# Temukan titik potong dengan sumbu-x menggunakan plot yang dibuat\n",
        "tolerance = 0.0005\n",
        "roots = []\n",
        "for i in range(len(x) - 1):\n",
        "    if f(x[i]) * f(x[i + 1]) < 0:\n",
        "        initial_guess = (x[i] + x[i + 1]) / 2  # Use the midpoint as the initial guess\n",
        "        root = optimize.root_scalar(f, method='brentq', bracket=[x[i], x[i + 1]], x0=initial_guess, xtol=tolerance)\n",
        "        roots.append(root.root)\n",
        "\n",
        "# Buat Point di setiap roots\n",
        "plt.scatter(roots, [0, 0, 0], label='root', color='green', linewidth=0.1)\n",
        "plt.legend()\n",
        "\n",
        "if root is not None:\n",
        "    print(f\"Akar persamaan ditemukan: {roots}\\n\")\n",
        "else:\n",
        "    print(\"Akar persamaan tidak ditemukan dalam range yang diberikan.\\n\")\n",
        "\n",
        "plt.show()"
      ],
      "metadata": {
        "colab": {
          "base_uri": "https://localhost:8080/",
          "height": 507
        },
        "id": "UpB5EXdt_fQS",
        "outputId": "5701b347-5016-4270-d1d1-eaf2ec5a6c9c"
      },
      "execution_count": null,
      "outputs": [
        {
          "output_type": "stream",
          "name": "stdout",
          "text": [
            "Akar persamaan ditemukan: [1.054360192490538, 1.8989668479136232, 3.0466736845674642]\n",
            "\n"
          ]
        },
        {
          "output_type": "display_data",
          "data": {
            "text/plain": [
              "<Figure size 640x480 with 1 Axes>"
            ],
            "image/png": "[encoded data removed]"
          },
          "metadata": {}
        }
      ]
    },
    {
      "cell_type": "markdown",
      "source": [
        "**Bisection Method**"
      ],
      "metadata": {
        "id": "G6dbjviO4V2A"
      }
    },
    {
      "cell_type": "code",
      "source": [
        "def bisection_method(a, b, tol):\n",
        "    if f(a) * f(b) >= 0:\n",
        "        print(\"Bisection method requires that f(a) and f(b) have opposite signs.\")\n",
        "        return None\n",
        "\n",
        "    while (b - a) / 2 > tol:\n",
        "        c = (a + b) / 2\n",
        "        if f(c) == 0:\n",
        "            return c\n",
        "        elif f(c) * f(a) < 0:\n",
        "            b = c\n",
        "            print(a, b)\n",
        "        else:\n",
        "            a = c\n",
        "            print(a, b)\n",
        "\n",
        "    return (a + b) / 2\n",
        "\n",
        "# Set the initial interval [a, b] and tolerance level\n",
        "a = 0.5\n",
        "b = 1.5\n",
        "tol = 0.0005\n",
        "\n",
        "# Find the positive real root using the bisection method\n",
        "root = bisection_method(a, b, tol)\n",
        "print(f\"\\nThe positive real root is approximately: {root}\")"
      ],
      "metadata": {
        "colab": {
          "base_uri": "https://localhost:8080/"
        },
        "id": "UxanIX-h_GNa",
        "outputId": "b89904b3-34c0-45d1-8df8-3cf70e7dd668"
      },
      "execution_count": null,
      "outputs": [
        {
          "output_type": "stream",
          "name": "stdout",
          "text": [
            "1.0 1.5\n",
            "1.0 1.25\n",
            "1.0 1.125\n",
            "1.0 1.0625\n",
            "1.03125 1.0625\n",
            "1.046875 1.0625\n",
            "1.046875 1.0546875\n",
            "1.05078125 1.0546875\n",
            "1.052734375 1.0546875\n",
            "1.0537109375 1.0546875\n",
            "\n",
            "The positive real root is approximately: 1.05419921875\n"
          ]
        }
      ]
    },
    {
      "cell_type": "markdown",
      "source": [
        "**False Position Method**"
      ],
      "metadata": {
        "id": "PHlNwxaeJIzx"
      }
    },
    {
      "cell_type": "code",
      "source": [
        "def false_position_method(a, b, tol, max_iter=1000):\n",
        "    if f(a) * f(b) >= 0:\n",
        "        print(\"False position method requires that f(a) and f(b) have opposite signs.\")\n",
        "        return None\n",
        "\n",
        "    for _ in range(max_iter):\n",
        "        c = a - (f(a) * (b - a)) / (f(b) - f(a))\n",
        "        if abs(f(c)) < tol:\n",
        "            return c\n",
        "        elif f(c) * f(a) < 0:\n",
        "            b = c\n",
        "            print(a, b)\n",
        "        else:\n",
        "            a = c\n",
        "            print(a, b)\n",
        "\n",
        "    return c\n",
        "\n",
        "# Set the initial interval [a, b] and tolerance level\n",
        "a = 0.5\n",
        "b = 1.5\n",
        "tol = 0.0005\n",
        "\n",
        "# Find the positive real root using the false position method\n",
        "root = false_position_method(a, b, tol)\n",
        "print(f\"\\nThe positive real root is approximately: {root}\") "
      ],
      "metadata": {
        "colab": {
          "base_uri": "https://localhost:8080/"
        },
        "id": "uTl5BtqfJLUa",
        "outputId": "0d8fb96c-1939-4415-a4f1-8985d9cd3544"
      },
      "execution_count": null,
      "outputs": [
        {
          "output_type": "stream",
          "name": "stdout",
          "text": [
            "0.5 1.3777777777777778\n",
            "0.5 1.2683348542337063\n",
            "0.5 1.1850903109072501\n",
            "0.5 1.1296943444329874\n",
            "0.5 1.0961561510123166\n",
            "0.5 1.0770299184509906\n",
            "0.5 1.0664984745231656\n",
            "0.5 1.0608123014597415\n",
            "0.5 1.057774874959906\n",
            "0.5 1.05616164286431\n",
            "0.5 1.0553074432364236\n",
            "0.5 1.0548558812046376\n",
            "\n",
            "The positive real root is approximately: 1.0546173733115398\n"
          ]
        }
      ]
    },
    {
      "cell_type": "markdown",
      "source": [
        "**Simple Fixed-Point Iteration Method**"
      ],
      "metadata": {
        "id": "CvtGq1H3JcW6"
      }
    },
    {
      "cell_type": "code",
      "source": [
        "def g(x):\n",
        "    return (x**3 - 6*x**2 + 6.1) / 11\n",
        "\n",
        "def simple_fixed_point_iteration(x0, tol, max_iter=1000):\n",
        "    for _ in range(max_iter):\n",
        "        x1 = g(x0)\n",
        "        if abs(x1 - x0) < tol:\n",
        "            return x1\n",
        "        x0 = x1\n",
        "        print(x0)\n",
        "\n",
        "    print(\"The method did not converge within the maximum number of iterations.\")\n",
        "    return None\n",
        "\n",
        "# Set the initial guess and tolerance level\n",
        "x0 = 0\n",
        "tol = 0.0005\n",
        "\n",
        "# Find the positive real root using the simple fixed-point iteration method\n",
        "root = simple_fixed_point_iteration(x0, tol)\n",
        "print(f\"\\nThe positive real root is approximately: {root}\")"
      ],
      "metadata": {
        "colab": {
          "base_uri": "https://localhost:8080/"
        },
        "id": "OE_614jtJbhM",
        "outputId": "1da9dcdb-f66b-4d12-d4bc-c2148771b761"
      },
      "execution_count": null,
      "outputs": [
        {
          "output_type": "stream",
          "name": "stdout",
          "text": [
            "0.5545454545454546\n",
            "0.4023100198073902\n",
            "0.4721813739126847\n",
            "0.44250398336220653\n",
            "0.4556170867090174\n",
            "0.4499144158129147\n",
            "0.4524122843778493\n",
            "0.4513215529334085\n",
            "\n",
            "The positive real root is approximately: 0.4517984853308827\n"
          ]
        }
      ]
    },
    {
      "cell_type": "markdown",
      "source": [
        "**Newton-Raphson**"
      ],
      "metadata": {
        "id": "rKJ0IGaHJuPx"
      }
    },
    {
      "cell_type": "code",
      "source": [
        "def df(x):\n",
        "    return 3*x**2 - 12*x + 11\n",
        "\n",
        "initial = []\n",
        "fx0 = []\n",
        "\n",
        "def newton_raphson_method(x0, tol, max_iter=1000):\n",
        "    for _ in range(max_iter):\n",
        "        x1 = x0 - f(x0) / df(x0)\n",
        "        if abs(x1 - x0) < tol:\n",
        "            return x1\n",
        "        x0 = x1\n",
        "        \n",
        "        fx0.append(f(x0))\n",
        "        initial.append(x0)\n",
        "\n",
        "        print(x0)\n",
        "\n",
        "    print(\"The method did not converge within the maximum number of iterations.\")\n",
        "    return None\n",
        "\n",
        "# Set the initial guess and tolerance level\n",
        "x0 = 0\n",
        "tol = 0.0005\n",
        "\n",
        "# Find the positive real root using the Newton-Raphson method\n",
        "root = newton_raphson_method(x0, tol)\n",
        "print(f\"\\nThe positive real root is approximately: {root}\\n\")\n",
        "\n",
        "plt.plot(x, f(x), label='f(x)', c='blue')\n",
        "plt.axhline(y=0, color='k', linestyle='--', linewidth=1)\n",
        "plt.axvline(x=0, color='k', linestyle='--', linewidth=1)\n",
        "\n",
        "\n",
        "plt.plot((x), df(x), label='df(x)', c='green')\n",
        "plt.axhline(y=0, color='k', linestyle='--', linewidth=1)\n",
        "plt.axvline(x=0, color='k', linestyle='--', linewidth=1)\n",
        "\n",
        "plt.scatter(initial, fx0, c='red')\n",
        "\n",
        "plt.xlabel('x')\n",
        "plt.ylabel('df(x) / f(x)')\n",
        "plt.title('Newton-Raphson Method')\n",
        "\n",
        "plt.legend()\n",
        "plt.show()"
      ],
      "metadata": {
        "id": "azlesU8cJwm7",
        "colab": {
          "base_uri": "https://localhost:8080/",
          "height": 611
        },
        "outputId": "1207c8f7-611a-4d93-9b06-10a036828627"
      },
      "execution_count": null,
      "outputs": [
        {
          "output_type": "stream",
          "name": "stdout",
          "text": [
            "0.5545454545454546\n",
            "0.872424066528517\n",
            "1.0167077717991828\n",
            "1.0521795002248355\n",
            "1.0543428241575883\n",
            "\n",
            "The positive real root is approximately: 1.0543507259711422\n",
            "\n"
          ]
        },
        {
          "output_type": "display_data",
          "data": {
            "text/plain": [
              "<Figure size 640x480 with 1 Axes>"
            ],
            "image/png": "[encoded data removed]"
          },
          "metadata": {}
        }
      ]
    },
    {
      "cell_type": "markdown",
      "source": [
        "**Modified Secant Method**"
      ],
      "metadata": {
        "id": "jpYG2Llx9UzF"
      }
    },
    {
      "cell_type": "code",
      "source": [
        "def modified_secant_method(x0, delta, tol, max_iter=1000):\n",
        "  for _ in range(max_iter):\n",
        "      x1 = x0 - (delta * x0 * f(x0)) / (f(x0 + delta * x0) - f(x0))\n",
        "      if abs(x1 - x0) < tol:\n",
        "          return x1\n",
        "      x0 = x1\n",
        "      \n",
        "      print(x0)\n",
        "\n",
        "  print(\"The method did not converge within the maximum number of iterations.\")\n",
        "  return None\n",
        "\n",
        "# Set the initial guess, perturbation factor, and tolerance level\n",
        "x0 = 1\n",
        "delta = 1e-4\n",
        "tol = 0.0005\n",
        "\n",
        "# Find the positive real root using the modified secant method\n",
        "root = modified_secant_method(x0, delta, tol)\n",
        "print(f\"The positive real root is approximately: {root}\")"
      ],
      "metadata": {
        "colab": {
          "base_uri": "https://localhost:8080/"
        },
        "id": "J-hB3G5h9PCs",
        "outputId": "1b7a6366-75d5-47f9-c803-3880858a6ea1"
      },
      "execution_count": null,
      "outputs": [
        {
          "output_type": "stream",
          "name": "stdout",
          "text": [
            "1.0500075008751424\n",
            "1.0543200439369422\n",
            "The positive real root is approximately: 1.0543507299432044\n"
          ]
        }
      ]
    },
    {
      "cell_type": "markdown",
      "source": [
        "# Number 2\n",
        "Make a program to solve this equation:\n",
        "\n",
        "$$10x_1 + 2x_2 - x_3 = 27$$\n",
        "\n",
        "$$-3x_1 - 6x_2 + 2x_3 = -61.5$$\n",
        "\n",
        "$$x_1 + x_2 + 5x_3 = -21.5$$\n",
        "\n",
        "using these methods:<br>\n",
        "a. Naive Gauss Elimination<br>\n",
        "b. LU Decomposition<br>\n",
        "c. Cholesky"
      ],
      "metadata": {
        "id": "LI3t-R6lSoKY"
      }
    },
    {
      "cell_type": "code",
      "source": [
        "import numpy as np\n",
        "\n",
        "A = np.array([[10, 2, -1],\n",
        "              [-3, 6, 2],\n",
        "              [1, 1, 5]])\n",
        "\n",
        "b = np.array([27, -61.5, -21.5])"
      ],
      "metadata": {
        "id": "a-gn1Xh8U88t"
      },
      "execution_count": null,
      "outputs": []
    },
    {
      "cell_type": "markdown",
      "source": [
        "**1. Naive Gauss Elimination**"
      ],
      "metadata": {
        "id": "NvRIGTiRTeSt"
      }
    },
    {
      "cell_type": "code",
      "source": [
        "# Augment the matrix A with vector b\n",
        "augmented_matrix = np.column_stack((A, b))\n",
        "\n",
        "# Perform Gaussian elimination\n",
        "n = len(b)\n",
        "for i in range(n):\n",
        "    for j in range(i + 1, n):\n",
        "        factor = augmented_matrix[j, i] / augmented_matrix[i, i]\n",
        "        augmented_matrix[j, :] -= factor * augmented_matrix[i, :]\n",
        "\n",
        "# Perform back substitution\n",
        "x = np.zeros(n)\n",
        "for i in range(n - 1, -1, -1):\n",
        "    x[i] = augmented_matrix[i, n] / augmented_matrix[i, i]\n",
        "    for j in range(i - 1, -1, -1):\n",
        "        augmented_matrix[j, n] -= augmented_matrix[j, i] * x[i]\n",
        "\n",
        "# Print the solution\n",
        "print(\"The solution is:\")\n",
        "for i in range(n):\n",
        "    print(f\"x{i+1} =\", x[i])\n"
      ],
      "metadata": {
        "colab": {
          "base_uri": "https://localhost:8080/"
        },
        "id": "AGg7uBHuTeCq",
        "outputId": "fb29116a-0387-4a2e-a33b-855883719620"
      },
      "execution_count": null,
      "outputs": [
        {
          "output_type": "stream",
          "name": "stdout",
          "text": [
            "The solution is:\n",
            "x1 = 3.7693498452012384\n",
            "x2 = -7.157894736842106\n",
            "x3 = -3.6222910216718267\n"
          ]
        }
      ]
    },
    {
      "cell_type": "markdown",
      "source": [
        "**2. LU Decomposition**"
      ],
      "metadata": {
        "id": "WTZlmdCLUDGc"
      }
    },
    {
      "cell_type": "code",
      "source": [
        "from scipy.linalg import lu_factor, lu_solve\n",
        "\n",
        "# Perform LU decomposition on A\n",
        "lu, piv = lu_factor(A)\n",
        "\n",
        "# Solve the system using LU decomposition\n",
        "x = lu_solve((lu, piv), b)\n",
        "\n",
        "# Print the solution\n",
        "print(\"The solution is:\")\n",
        "for i in range(len(x)):\n",
        "    print(f\"x{i+1} =\", x[i])\n"
      ],
      "metadata": {
        "colab": {
          "base_uri": "https://localhost:8080/"
        },
        "id": "Ve7DXfw2UCm7",
        "outputId": "1f3bf61e-9b4e-4498-fab4-657970662260"
      },
      "execution_count": null,
      "outputs": [
        {
          "output_type": "stream",
          "name": "stdout",
          "text": [
            "The solution is:\n",
            "x1 = 3.7693498452012384\n",
            "x2 = -7.157894736842106\n",
            "x3 = -3.6222910216718267\n"
          ]
        }
      ]
    },
    {
      "cell_type": "markdown",
      "source": [
        "**3. Cholesky**"
      ],
      "metadata": {
        "id": "t1-ZUGnwTa0q"
      }
    },
    {
      "cell_type": "code",
      "source": [
        "def cholesky(A):\n",
        "    n = len(A)\n",
        "    L = np.zeros((n, n))\n",
        "    for i in range(n):\n",
        "        for j in range(i+1):\n",
        "            if i == j:\n",
        "                L[i, j] = np.sqrt(A[i, j] - np.sum(L[i, :j]**2))\n",
        "            else:\n",
        "                L[i, j] = (A[i, j] - np.sum(L[i, :j]*L[j, :j])) / L[j, j]\n",
        "    return L\n",
        "\n",
        "def forward_substitution(L, b):\n",
        "    n = len(L)\n",
        "    y = np.zeros(n)\n",
        "    for i in range(n):\n",
        "        y[i] = (b[i] - np.dot(L[i, :i], y[:i])) / L[i, i]\n",
        "    return y\n",
        "\n",
        "def back_substitution(L, y):\n",
        "    n = len(L)\n",
        "    x = np.zeros(n)\n",
        "    for i in reversed(range(n)):\n",
        "        x[i] = (y[i] - np.dot(L[i+1:, i], x[i+1:])) / L[i, i]\n",
        "    return x\n",
        "\n",
        "L = cholesky(A)\n",
        "y = forward_substitution(L, b)\n",
        "x = back_substitution(L, y)\n",
        "\n",
        "# Verify the solution\n",
        "residual = np.allclose(np.dot(L.T, x), y)\n",
        "print(\"Residual check:\", residual)\n",
        "\n",
        "# Print the solution\n",
        "print(\"The solution is:\")\n",
        "print(\"x1 =\", x[0])\n",
        "print(\"x2 =\", x[1])\n",
        "print(\"x3 =\", x[2])"
      ],
      "metadata": {
        "colab": {
          "base_uri": "https://localhost:8080/"
        },
        "id": "ZVJLCysdWwjz",
        "outputId": "5f380d65-0ec0-4397-fadb-c7edf9a9d685"
      },
      "execution_count": null,
      "outputs": [
        {
          "output_type": "stream",
          "name": "stdout",
          "text": [
            "Residual check: True\n",
            "The solution is:\n",
            "x1 = -0.03218884120171755\n",
            "x2 = -9.87982832618026\n",
            "x3 = -2.3175965665236045\n"
          ]
        }
      ]
    },
    {
      "cell_type": "code",
      "source": [
        "# Perform Cholesky decomposition on A\n",
        "L = np.linalg.cholesky(A)\n",
        "\n",
        "# Solve Ly = b using forward substitution\n",
        "y = np.linalg.solve(L, b)\n",
        "\n",
        "# Solve L^T x = y using back substitution\n",
        "x = np.linalg.solve(L.T, y)\n",
        "\n",
        "print(np.allclose(np.dot(L.T, x), y))\n",
        "\n",
        "# Print the solution\n",
        "print(\"The solution is:\")\n",
        "print(\"x1 =\", x[0])\n",
        "print(\"x2 =\", x[1])\n",
        "print(\"x3 =\", x[2])"
      ],
      "metadata": {
        "colab": {
          "base_uri": "https://localhost:8080/"
        },
        "id": "ELZv7FlJQk0s",
        "outputId": "14b7c872-ea50-4158-f16b-99351e66a2e9"
      },
      "execution_count": null,
      "outputs": [
        {
          "output_type": "stream",
          "name": "stdout",
          "text": [
            "True\n",
            "The solution is:\n",
            "x1 = -0.03218884120171755\n",
            "x2 = -9.87982832618026\n",
            "x3 = -2.317596566523604\n"
          ]
        }
      ]
    },
    {
      "cell_type": "code",
      "source": [
        "# Inverse Matrix\n",
        "inv = np.linalg.inv(A)\n",
        "print(inv)"
      ],
      "metadata": {
        "colab": {
          "base_uri": "https://localhost:8080/"
        },
        "id": "QIpAJH-fkUgj",
        "outputId": "0af6f0f2-890c-479c-c3cd-69c4bb4e5ff7"
      },
      "execution_count": null,
      "outputs": [
        {
          "output_type": "stream",
          "name": "stdout",
          "text": [
            "[[ 0.08668731 -0.03405573  0.03095975]\n",
            " [ 0.05263158  0.15789474 -0.05263158]\n",
            " [-0.02786378 -0.0247678   0.20433437]]\n"
          ]
        }
      ]
    },
    {
      "cell_type": "code",
      "source": [],
      "metadata": {
        "id": "lfJ75UE-rwhV"
      },
      "execution_count": null,
      "outputs": []
    }
  ]
}